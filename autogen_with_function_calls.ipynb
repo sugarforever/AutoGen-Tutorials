{
  "cells": [
    {
      "cell_type": "markdown",
      "metadata": {
        "id": "view-in-github",
        "colab_type": "text"
      },
      "source": [
        "<a href=\"https://colab.research.google.com/github/sugarforever/AutoGen-Tutorials/blob/main/autogen_with_function_calls.ipynb\" target=\"_parent\"><img src=\"https://colab.research.google.com/assets/colab-badge.svg\" alt=\"Open In Colab\"/></a>"
      ]
    },
    {
      "cell_type": "markdown",
      "source": [
        "# AutoGen with Function Calls\n",
        "\n",
        "Let's see how to use AssistantAgent and UserProxyAgent to make function calls with the new feature of OpenAI models.\n",
        "\n",
        "In this notebook, we will instruct the AssistantAgent to use provided function as tool to search news with Google Serp API."
      ],
      "metadata": {
        "id": "39_S0tWcB-oh"
      }
    },
    {
      "cell_type": "code",
      "execution_count": null,
      "metadata": {
        "execution": {
          "iopub.execute_input": "2023-02-13T23:40:52.317406Z",
          "iopub.status.busy": "2023-02-13T23:40:52.316561Z",
          "iopub.status.idle": "2023-02-13T23:40:52.321193Z",
          "shell.execute_reply": "2023-02-13T23:40:52.320628Z"
        },
        "id": "1VRZnGGGgkhl"
      },
      "outputs": [],
      "source": [
        "%pip install pyautogen~=0.1.0 docker google-search-results -q -U"
      ]
    },
    {
      "cell_type": "code",
      "source": [
        "from serpapi import GoogleSearch\n",
        "\n",
        "def search_google_news(keyword):\n",
        "  print(f\"Keyword: {keyword}\")\n",
        "  search = GoogleSearch({\n",
        "      \"q\": keyword,\n",
        "      \"tbm\": \"nws\",\n",
        "      \"api_key\": open(\"serp_api_key.txt\").read().strip()\n",
        "    })\n",
        "  result = search.get_dict()\n",
        "  return [item['link'] for item in result['news_results']]\n"
      ],
      "metadata": {
        "id": "YbaB37ztBXgQ"
      },
      "execution_count": null,
      "outputs": []
    },
    {
      "cell_type": "markdown",
      "metadata": {
        "id": "AvkcIBUpgkhl"
      },
      "source": [
        "## Set your API Endpoint\n",
        "\n",
        "The [`config_list_from_json`](https://microsoft.github.io/autogen/docs/reference/oai/openai_utils#config_list_from_json) function loads a list of configurations from an environment variable or a json file.\n"
      ]
    },
    {
      "cell_type": "code",
      "execution_count": null,
      "metadata": {
        "id": "ZsXuHf1fgkhl"
      },
      "outputs": [],
      "source": [
        "import autogen\n",
        "\n",
        "config_list = autogen.config_list_from_json(\n",
        "    \"OAI_CONFIG_LIST\",\n",
        "    filter_dict={\n",
        "        \"model\": [\"gpt-4\"],\n",
        "    },\n",
        ")\n",
        "\n",
        "llm_config={\n",
        "    \"request_timeout\": 600,\n",
        "    \"seed\": 42,\n",
        "    \"config_list\": config_list,\n",
        "    \"temperature\": 0,\n",
        "    \"functions\": [\n",
        "        {\n",
        "            \"name\": \"search_google_news\",\n",
        "            \"description\": \"Search google news by keyword\",\n",
        "            \"parameters\": {\n",
        "                \"type\": \"object\",\n",
        "                \"properties\": {\n",
        "                    \"keyword\": {\n",
        "                        \"type\": \"string\",\n",
        "                        \"description\": \"The keyword that's used to search google news\",\n",
        "                    }\n",
        "                },\n",
        "                \"required\": [\"keyword\"],\n",
        "            },\n",
        "        }\n",
        "    ],\n",
        "}"
      ]
    },
    {
      "cell_type": "markdown",
      "metadata": {
        "id": "-G6my50Lgkhm"
      },
      "source": [
        "## Construct Agents\n",
        "\n",
        "We construct the assistant agent and the user proxy agent. We specify `human_input_mode` as \"TERMINATE\" in the user proxy agent, which will ask for human feedback when it receives a \"TERMINATE\" signal from the assistant agent."
      ]
    },
    {
      "cell_type": "code",
      "execution_count": null,
      "metadata": {
        "id": "eg9g65hOgkhm"
      },
      "outputs": [],
      "source": [
        "# create an AssistantAgent instance named \"assistant\"\n",
        "assistant = autogen.AssistantAgent(\n",
        "    name=\"assistant\",\n",
        "    llm_config=llm_config,\n",
        ")\n",
        "# create a UserProxyAgent instance named \"user_proxy\"\n",
        "user_proxy = autogen.UserProxyAgent(\n",
        "    name=\"user_proxy\",\n",
        "    human_input_mode=\"NEVER\",\n",
        "    max_consecutive_auto_reply=10,\n",
        "    code_execution_config={\"work_dir\": \".\"},\n",
        "    llm_config=llm_config,\n",
        "    system_message=\"\"\"When a link is provided, you should ask the assistant for fetching the content. Reply TERMINATE if the task has been solved at full satisfaction.\n",
        "Otherwise, reply CONTINUE, or the reason why the task is not solved yet.\"\"\",\n",
        "    function_map={\"search_google_news\": search_google_news}\n",
        ")"
      ]
    },
    {
      "cell_type": "code",
      "execution_count": null,
      "metadata": {
        "id": "aCdAqig3gkhn",
        "outputId": "3c5f7234-56ff-401a-e31c-40221d263b6a",
        "colab": {
          "base_uri": "https://localhost:8080/"
        }
      },
      "outputs": [
        {
          "output_type": "stream",
          "name": "stdout",
          "text": [
            "user_proxy (to assistant):\n",
            "\n",
            "\n",
            "Search google news in the topic of \"Hamas\", and write a news based on them.\n",
            "You should avoid bullet points. \n",
            "Instead, use more expressive words to form a news that's like one written by a well recognized journalist.\n",
            "\n",
            "Start the work now.\n",
            "\n",
            "\n",
            "--------------------------------------------------------------------------------\n",
            "assistant (to user_proxy):\n",
            "\n",
            "***** Suggested function Call: search_google_news *****\n",
            "Arguments: \n",
            "\n",
            "{\n",
            "  \"keyword\": \"Hamas\"\n",
            "}\n",
            "*******************************************************\n",
            "\n",
            "--------------------------------------------------------------------------------\n",
            "\n",
            ">>>>>>>> EXECUTING FUNCTION search_google_news...\n",
            "Keyword: Hamas\n",
            "user_proxy (to assistant):\n",
            "\n",
            "***** Response from calling function \"search_google_news\" *****\n",
            "['https://www.wsj.com/livecoverage/israel-hamas-gaza-rockets-attack-palestinians', 'https://apnews.com/article/israel-palestinians-gaza-hamas-rockets-airstrikes-tel-aviv-11fb98655c256d54ecb5329284fc37d2', 'https://www.bbc.com/news/world-middle-east-67043563', 'https://www.foxnews.com/live-news/hamas-attack-israel-war', 'https://www.nytimes.com/live/2023/10/07/world/israel-gaza-attack', 'https://www.cnn.com/2023/10/07/middleeast/israel-hamas-rocket-attack-what-we-know-intl/index.html', 'https://www.usatoday.com/story/news/world/2023/10/07/israel-netanyahu-says-at-war-as-hamas-palestinian-militants-launch-surprise-attack/71098144007/', 'https://www.nbcnews.com/news/world/live-blog/live-updates-hamas-israel-gaza-attack-rockets-gunmen-palestinian-rcna119316', 'https://abcnews.go.com/International/rockets-fired-gaza-tel-aviv-jerusalem-hamas-militants/story?id=103803865']\n",
            "***************************************************************\n",
            "\n",
            "--------------------------------------------------------------------------------\n",
            "assistant (to user_proxy):\n",
            "\n",
            "Based on the recent news articles, here is a news story about the current situation with Hamas:\n",
            "\n",
            "In a sudden escalation of tensions, Hamas, the Palestinian militant group, has launched a surprise attack on Israel. The situation has rapidly evolved into a state of war, as stated by Israel's Prime Minister Netanyahu. The attack has seen rockets being fired from Gaza towards Tel Aviv and Jerusalem, causing widespread panic and chaos in these cities.\n",
            "\n",
            "The Wall Street Journal, AP News, and BBC have all reported on the ongoing rocket attacks and airstrikes in the region. The situation is tense, with both sides showing no signs of backing down. The Israeli Defense Forces (IDF) have responded with their own set of airstrikes, targeting key Hamas locations in Gaza.\n",
            "\n",
            "Fox News and The New York Times have provided live coverage of the events, detailing the unfolding situation on the ground. The reports indicate that the situation is volatile, with the potential for further escalation.\n",
            "\n",
            "CNN and USA Today have highlighted the international implications of this conflict. The world watches anxiously as the situation unfolds, with calls for peace and de-escalation coming from various international bodies.\n",
            "\n",
            "NBC News and ABC News have provided live updates on the situation, with reports of rockets being fired and gunmen on the streets. The Palestinian militants have claimed responsibility for the attacks, stating that they are in response to Israeli actions in the region.\n",
            "\n",
            "As the situation continues to evolve, the world watches with bated breath, hoping for a peaceful resolution to this sudden escalation of violence.\n",
            "\n",
            "TERMINATE\n",
            "\n",
            "--------------------------------------------------------------------------------\n",
            "user_proxy (to assistant):\n",
            "\n",
            "TERMINATE\n",
            "\n",
            "--------------------------------------------------------------------------------\n"
          ]
        }
      ],
      "source": [
        "# the assistant receives a message from the user, which contains the task description\n",
        "user_proxy.initiate_chat(\n",
        "    assistant,\n",
        "    message=\"\"\"\n",
        "Search google news in the topic of \"Hamas\", and write a news based on them.\n",
        "You should avoid bullet points.\n",
        "Instead, use more expressive words to form a news that's like one written by a well recognized journalist.\n",
        "\n",
        "Start the work now.\n",
        "\"\"\"\n",
        ")"
      ]
    }
  ],
  "metadata": {
    "kernelspec": {
      "display_name": "Python 3",
      "language": "python",
      "name": "python3"
    },
    "language_info": {
      "codemirror_mode": {
        "name": "ipython",
        "version": 3
      },
      "file_extension": ".py",
      "mimetype": "text/x-python",
      "name": "python",
      "nbconvert_exporter": "python",
      "pygments_lexer": "ipython3",
      "version": "3.9.17"
    },
    "vscode": {
      "interpreter": {
        "hash": "949777d72b0d2535278d3dc13498b2535136f6dfe0678499012e853ee9abcab1"
      }
    },
    "colab": {
      "provenance": [],
      "include_colab_link": true
    }
  },
  "nbformat": 4,
  "nbformat_minor": 0
}
